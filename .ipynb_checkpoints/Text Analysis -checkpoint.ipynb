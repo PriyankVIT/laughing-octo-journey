{
 "cells": [
  {
   "cell_type": "code",
   "execution_count": 1,
   "metadata": {},
   "outputs": [],
   "source": [
    "import pandas as pd\n",
    "from nltk import sent_tokenize,word_tokenize\n",
    "from nltk.corpus import stopwords\n",
    "from nltk.stem import PorterStemmer\n",
    "from nltk.stem import LancasterStemmer"
   ]
  },
  {
   "cell_type": "code",
   "execution_count": 2,
   "metadata": {},
   "outputs": [],
   "source": [
    "text=\"(a) The software (including Boot ROM code, embedded software and third party software), documentation, interfaces, content, fonts and any data that came with your Device (“Original Apple Software”), as may be updated or replaced by feature enhancements, software updates or system restore software provided by Apple (“Apple Software Updates”), whether in read only memory, on any other media or in any other form (the Original Apple Software and Apple Software Updates are collectively referred to as the “Apple Software”) are licensed, not sold, to you by Apple Inc. (“Apple”) for use only under the terms of this License. Apple and its licensors retain ownership of the Apple Software itself and reserve all rights not expressly granted to you. You agree that the terms of this License will apply to any Apple-branded app that may be built-in on your Device, unless such app is accompanied by a separate license, in which case you agree that the terms of that license will govern your use of that app. (b) Apple, at its discretion, may make available future Apple Software Updates. The Apple Software Updates, if any, may not necessarily include all existing software features or new features that Apple releases for newer or other models of Devices.  The terms of this License will govern any Apple Software Updates provided by Apple, unless such Apple Software Update is accompanied by a separate license, in which case you agree that the terms of that license will govern (c) If you use the express setup feature to set up a new Device based on your existing Device, you agree that the terms of this License will govern your use of the Apple Software on your new Device, unless it is accompanied by a separate license, in which case you agree that the terms of that license will govern your use of that Apple Software. Your Device will periodically check with Apple for Apple Software Updates. If an update is available, the update may automatically download and install onto your Device and, if applicable, your peripheral devices. By using the Apple Software, you agree that Apple may download and install automatic Apple Software Updates onto your Device and your peripheral devices. You can turn oﬀ automatic updates altogether at any time by changing the Automatic Updates settings found within Settings > General > Software Update.\""
   ]
  },
  {
   "cell_type": "code",
   "execution_count": 3,
   "metadata": {},
   "outputs": [
    {
     "data": {
      "text/plain": [
       "2342"
      ]
     },
     "execution_count": 3,
     "metadata": {},
     "output_type": "execute_result"
    }
   ],
   "source": [
    "len(text)"
   ]
  },
  {
   "cell_type": "code",
   "execution_count": 4,
   "metadata": {},
   "outputs": [
    {
     "name": "stdout",
     "output_type": "stream",
     "text": [
      " The software (including Boot ROM code, embedded software and third party software), documentation, interfaces, content, fonts and any data that came with your Device (“Original Apple Software”), as may be updated or replaced by feature enhancements, software updates or system restore software provided by Apple (“Apple Software Updates”), whether in read only memory, on any other media or in any other form (the Original Apple Software and Apple Software Updates are collectively referred to as the “Apple Software”) are licensed, not sold, to you by Apple Inc. (“Apple”) for use only under the terms of this License. Apple and its licensors retain ownership of the Apple Software itself and reserve all rights not expressly granted to you. You agree that the terms of this License will apply to any Apple-branded app that may be built-in on your Device, unless such app is accompanied by a separate license, in which case you agree that the terms of that license will govern your use of that app. \n",
      "False\n",
      "1\n"
     ]
    }
   ],
   "source": [
    "path=\"trems1.txt\"\n",
    "count=0\n",
    "with open(path) as fp:\n",
    "    while True:\n",
    "        line=fp.readline()\n",
    "        if not line:\n",
    "            print(\"False\")\n",
    "            break\n",
    "        else:\n",
    "            count+=1\n",
    "            print(line)\n",
    "print(count)"
   ]
  },
  {
   "cell_type": "code",
   "execution_count": 5,
   "metadata": {},
   "outputs": [],
   "source": [
    "stop = set(stopwords.words(\"english\"))\n"
   ]
  },
  {
   "cell_type": "code",
   "execution_count": 6,
   "metadata": {},
   "outputs": [
    {
     "name": "stdout",
     "output_type": "stream",
     "text": [
      " the software (including boot rom code, embedded software and third party software), documentation, interfaces, content, fonts and any data that came with your device (“original apple software”), as may be updated or replaced by feature enhancements, software updates or system restore software provided by apple (“apple software updates”), whether in read only memory, on any other media or in any other form (the original apple software and apple software updates are collectively referred to as the “apple software”) are licensed, not sold, to you by apple inc. (“apple”) for use only under the terms of this license.\n",
      "apple and its licensors retain ownership of the apple software itself and reserve all rights not expressly granted to you.\n",
      "you agree that the terms of this license will apply to any apple-branded app that may be built-in on your device, unless such app is accompanied by a separate license, in which case you agree that the terms of that license will govern your use of that app.\n",
      "[3, 'you agree that the terms of this license will apply to any apple-branded app that may be built-in on your device, unless such app is accompanied by a separate license, in which case you agree that the terms of that license will govern your use of that app.']\n",
      "False\n",
      "3\n"
     ]
    }
   ],
   "source": [
    "path=\"trems1.txt\"\n",
    "parsedata=[]\n",
    "count=0\n",
    "with open(path) as fp:\n",
    "\n",
    "    while True:\n",
    "        messages=[]\n",
    "        line=fp.readline()\n",
    "        line=line.lower()\n",
    "        if not line:\n",
    "            print(\"False\")\n",
    "            break\n",
    "        else:\n",
    "            sent=sent_tokenize(line)\n",
    "            for y in sent:\n",
    "                count+=1\n",
    "                print(y)\n",
    "                messages=[count,y]\n",
    "                parsedata.append(messages)\n",
    "        \n",
    "        print(messages)\n",
    "        \n",
    "data= pd.DataFrame(parsedata,columns=['index','article'])\n",
    "data.to_csv(\"terms.csv\")\n",
    "print(count)\n",
    "#print(count)"
   ]
  },
  {
   "cell_type": "code",
   "execution_count": 7,
   "metadata": {},
   "outputs": [],
   "source": [
    "terms=pd.read_csv(\"terms.csv\")"
   ]
  },
  {
   "cell_type": "code",
   "execution_count": 8,
   "metadata": {},
   "outputs": [
    {
     "data": {
      "text/plain": [
       "0     the software (including boot rom code, embedd...\n",
       "1    apple and its licensors retain ownership of th...\n",
       "2    you agree that the terms of this license will ...\n",
       "Name: article, dtype: object"
      ]
     },
     "execution_count": 8,
     "metadata": {},
     "output_type": "execute_result"
    }
   ],
   "source": [
    "terms=terms[['index','article']]\n",
    "terms['article']"
   ]
  },
  {
   "cell_type": "code",
   "execution_count": 9,
   "metadata": {},
   "outputs": [],
   "source": [
    "def stopwords_removal(line):\n",
    "    line=\" \".join(x for x in line.split() if x not in stop)\n",
    "    return line\n",
    "porter = PorterStemmer()\n",
    "lancaster=LancasterStemmer()\n",
    "def stemSentence(sentence):\n",
    "    token_words=word_tokenize(sentence)\n",
    "    token_words\n",
    "    stem_sentence=[]\n",
    "    for word in token_words:\n",
    "        stem_sentence.append(lancaster.stem(word))\n",
    "        stem_sentence.append(\" \")\n",
    "    return \"\".join(stem_sentence)\n",
    "    "
   ]
  },
  {
   "cell_type": "code",
   "execution_count": 10,
   "metadata": {},
   "outputs": [
    {
     "data": {
      "text/html": [
       "<div>\n",
       "<style scoped>\n",
       "    .dataframe tbody tr th:only-of-type {\n",
       "        vertical-align: middle;\n",
       "    }\n",
       "\n",
       "    .dataframe tbody tr th {\n",
       "        vertical-align: top;\n",
       "    }\n",
       "\n",
       "    .dataframe thead th {\n",
       "        text-align: right;\n",
       "    }\n",
       "</style>\n",
       "<table border=\"1\" class=\"dataframe\">\n",
       "  <thead>\n",
       "    <tr style=\"text-align: right;\">\n",
       "      <th></th>\n",
       "      <th>index</th>\n",
       "      <th>article</th>\n",
       "    </tr>\n",
       "  </thead>\n",
       "  <tbody>\n",
       "    <tr>\n",
       "      <th>0</th>\n",
       "      <td>1</td>\n",
       "      <td>softw ( includ boot rom cod , embed softw thir...</td>\n",
       "    </tr>\n",
       "    <tr>\n",
       "      <th>1</th>\n",
       "      <td>2</td>\n",
       "      <td>appl licens retain own appl softw reserv right...</td>\n",
       "    </tr>\n",
       "    <tr>\n",
       "      <th>2</th>\n",
       "      <td>3</td>\n",
       "      <td>agr term licens apply apple-branded ap may bui...</td>\n",
       "    </tr>\n",
       "  </tbody>\n",
       "</table>\n",
       "</div>"
      ],
      "text/plain": [
       "   index                                            article\n",
       "0      1  softw ( includ boot rom cod , embed softw thir...\n",
       "1      2  appl licens retain own appl softw reserv right...\n",
       "2      3  agr term licens apply apple-branded ap may bui..."
      ]
     },
     "execution_count": 10,
     "metadata": {},
     "output_type": "execute_result"
    }
   ],
   "source": [
    "terms['article']=terms['article'].apply(stopwords_removal)\n",
    "terms['article']=terms['article'].apply(stemSentence)\n",
    "terms"
   ]
  },
  {
   "cell_type": "code",
   "execution_count": null,
   "metadata": {},
   "outputs": [],
   "source": []
  }
 ],
 "metadata": {
  "kernelspec": {
   "display_name": "Python 3",
   "language": "python",
   "name": "python3"
  },
  "language_info": {
   "codemirror_mode": {
    "name": "ipython",
    "version": 3
   },
   "file_extension": ".py",
   "mimetype": "text/x-python",
   "name": "python",
   "nbconvert_exporter": "python",
   "pygments_lexer": "ipython3",
   "version": "3.7.3"
  }
 },
 "nbformat": 4,
 "nbformat_minor": 2
}
